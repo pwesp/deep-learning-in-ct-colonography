{
 "cells": [
  {
   "cell_type": "markdown",
   "id": "1017247e-2acf-47cd-a710-aa6f0366c9c4",
   "metadata": {},
   "source": [
    "View preprocessed CT images and manual segmentation masks"
   ]
  },
  {
   "cell_type": "code",
   "execution_count": null,
   "id": "e6d0e65f-3017-4ab2-8f5b-f6eb1a1d0049",
   "metadata": {},
   "outputs": [],
   "source": [
    "from   ipywidgets import interactive, fixed\n",
    "import matplotlib.pyplot as plt\n",
    "import numpy as np"
   ]
  },
  {
   "cell_type": "code",
   "execution_count": null,
   "id": "d8194ffa-edbd-458d-b163-79a6f89ce8dd",
   "metadata": {},
   "outputs": [],
   "source": [
    "ct  = 'preprocessed-cts/001/boxedct_pat_1_segid_1.npy'\n",
    "seg = 'preprocessed-cts/001/polypseg_pat_1_segid_1.npy'"
   ]
  },
  {
   "cell_type": "code",
   "execution_count": null,
   "id": "aa880ca6-550c-424a-97be-ef4a5c4c23f7",
   "metadata": {},
   "outputs": [],
   "source": [
    "def viewer(ct, seg, x, y, z):\n",
    "    \n",
    "    ct_image  = np.load(ct)\n",
    "    seg_image = np.load(seg)\n",
    "    \n",
    "    fig, ax = plt.subplots(1, 3, figsize=(21,7))\n",
    "    # Plot boxed CT scan\n",
    "    ax[0].imshow(ct_image[x,:,:])\n",
    "    ax[1].imshow(ct_image[:,y,:])\n",
    "    ax[2].imshow(ct_image[:,:,z])\n",
    "    # Overlay segmentation\n",
    "    ax[0].imshow(seg_image[x,:,:]*0.66, cmap = 'Reds', vmin=0.0, vmax=1.0, alpha=0.5)\n",
    "    ax[1].imshow(seg_image[:,y,:]*0.66, cmap = 'Reds', vmin=0.0, vmax=1.0, alpha=0.5)\n",
    "    ax[2].imshow(seg_image[:,:,z]*0.66, cmap = 'Reds', vmin=0.0, vmax=1.0, alpha=0.5)\n",
    "    plt.show()"
   ]
  },
  {
   "cell_type": "code",
   "execution_count": null,
   "id": "0dc34918-08dc-4465-89a9-75568ca856d4",
   "metadata": {},
   "outputs": [],
   "source": [
    "interactive(viewer,\n",
    "            ct  = fixed(ct),\n",
    "            seg = fixed(seg),\n",
    "            x   = (0,99),\n",
    "            y   = (0,99),\n",
    "            z   = (0,99))"
   ]
  }
 ],
 "metadata": {
  "kernelspec": {
   "display_name": "Python 3",
   "language": "python",
   "name": "python3"
  },
  "language_info": {
   "codemirror_mode": {
    "name": "ipython",
    "version": 3
   },
   "file_extension": ".py",
   "mimetype": "text/x-python",
   "name": "python",
   "nbconvert_exporter": "python",
   "pygments_lexer": "ipython3",
   "version": "3.7.11"
  }
 },
 "nbformat": 4,
 "nbformat_minor": 5
}
